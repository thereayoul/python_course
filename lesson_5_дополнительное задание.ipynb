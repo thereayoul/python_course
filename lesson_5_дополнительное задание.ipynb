{
 "cells": [
  {
   "cell_type": "code",
   "execution_count": 208,
   "metadata": {},
   "outputs": [],
   "source": [
    "import pandas as pd\n",
    "import seaborn as sns\n",
    "import os"
   ]
  },
  {
   "cell_type": "code",
   "execution_count": 209,
   "metadata": {},
   "outputs": [],
   "source": [
    "way = '/mnt/HC_Volume_18315164/home-jupyter/jupyter-v-novohatnij-29/shared/homeworks/python_ds_miniprojects/5_subsid/subsid/'\n",
    "dirr = [i for i in os.listdir(way)]"
   ]
  },
  {
   "cell_type": "code",
   "execution_count": 210,
   "metadata": {},
   "outputs": [],
   "source": [
    "df = pd.DataFrame()\n",
    "for i in dirr[1:]:\n",
    "    a = pd.read_csv(way + i, sep=';')\n",
    "    df = pd.concat([df,a])"
   ]
  },
  {
   "cell_type": "code",
   "execution_count": 211,
   "metadata": {},
   "outputs": [],
   "source": [
    "df = df.reset_index(drop=True)"
   ]
  },
  {
   "cell_type": "code",
   "execution_count": 212,
   "metadata": {},
   "outputs": [],
   "source": [
    "df = df.dropna()"
   ]
  },
  {
   "cell_type": "code",
   "execution_count": 213,
   "metadata": {},
   "outputs": [],
   "source": [
    "def plus_id(idi):\n",
    "    idi = str(idi)\n",
    "    if not idi.startswith('id'):\n",
    "        return 'id' + idi\n",
    "    return idi"
   ]
  },
  {
   "cell_type": "code",
   "execution_count": 214,
   "metadata": {},
   "outputs": [],
   "source": [
    "df.SUBS_ID = df.SUBS_ID.apply(plus_id)"
   ]
  },
  {
   "cell_type": "code",
   "execution_count": 215,
   "metadata": {},
   "outputs": [
    {
     "data": {
      "text/html": [
       "<div>\n",
       "<style scoped>\n",
       "    .dataframe tbody tr th:only-of-type {\n",
       "        vertical-align: middle;\n",
       "    }\n",
       "\n",
       "    .dataframe tbody tr th {\n",
       "        vertical-align: top;\n",
       "    }\n",
       "\n",
       "    .dataframe thead th {\n",
       "        text-align: right;\n",
       "    }\n",
       "</style>\n",
       "<table border=\"1\" class=\"dataframe\">\n",
       "  <thead>\n",
       "    <tr style=\"text-align: right;\">\n",
       "      <th></th>\n",
       "      <th>SUBS_ID</th>\n",
       "      <th>FILIAL_ID</th>\n",
       "      <th>PROD_ID</th>\n",
       "      <th>ACT_DTTM</th>\n",
       "    </tr>\n",
       "  </thead>\n",
       "  <tbody>\n",
       "    <tr>\n",
       "      <th>0</th>\n",
       "      <td>id4651830</td>\n",
       "      <td>1</td>\n",
       "      <td>1954</td>\n",
       "      <td>20-03-2020 14:59</td>\n",
       "    </tr>\n",
       "    <tr>\n",
       "      <th>1</th>\n",
       "      <td>id7646509</td>\n",
       "      <td>5</td>\n",
       "      <td>6431</td>\n",
       "      <td>19-03-2020 13:00</td>\n",
       "    </tr>\n",
       "    <tr>\n",
       "      <th>2</th>\n",
       "      <td>id7412683</td>\n",
       "      <td>4</td>\n",
       "      <td>3313</td>\n",
       "      <td>22-03-2020 17:25</td>\n",
       "    </tr>\n",
       "    <tr>\n",
       "      <th>3</th>\n",
       "      <td>id5416547</td>\n",
       "      <td>3</td>\n",
       "      <td>1743</td>\n",
       "      <td>17-03-2020 10:17</td>\n",
       "    </tr>\n",
       "    <tr>\n",
       "      <th>5</th>\n",
       "      <td>id8362218</td>\n",
       "      <td>7</td>\n",
       "      <td>9879</td>\n",
       "      <td>05-03-2020 11:42</td>\n",
       "    </tr>\n",
       "    <tr>\n",
       "      <th>6</th>\n",
       "      <td>id2185490</td>\n",
       "      <td>2</td>\n",
       "      <td>3210</td>\n",
       "      <td>16-03-2020 16:28</td>\n",
       "    </tr>\n",
       "    <tr>\n",
       "      <th>7</th>\n",
       "      <td>id5764122</td>\n",
       "      <td>3</td>\n",
       "      <td>1499</td>\n",
       "      <td>18-03-2020 15:44</td>\n",
       "    </tr>\n",
       "    <tr>\n",
       "      <th>8</th>\n",
       "      <td>id7642700</td>\n",
       "      <td>6</td>\n",
       "      <td>3020</td>\n",
       "      <td>15-03-2020 14:21</td>\n",
       "    </tr>\n",
       "    <tr>\n",
       "      <th>9</th>\n",
       "      <td>id1374509</td>\n",
       "      <td>2</td>\n",
       "      <td>5677</td>\n",
       "      <td>17-03-2020 11:48</td>\n",
       "    </tr>\n",
       "  </tbody>\n",
       "</table>\n",
       "</div>"
      ],
      "text/plain": [
       "     SUBS_ID  FILIAL_ID  PROD_ID          ACT_DTTM\n",
       "0  id4651830          1     1954  20-03-2020 14:59\n",
       "1  id7646509          5     6431  19-03-2020 13:00\n",
       "2  id7412683          4     3313  22-03-2020 17:25\n",
       "3  id5416547          3     1743  17-03-2020 10:17\n",
       "5  id8362218          7     9879  05-03-2020 11:42\n",
       "6  id2185490          2     3210  16-03-2020 16:28\n",
       "7  id5764122          3     1499  18-03-2020 15:44\n",
       "8  id7642700          6     3020  15-03-2020 14:21\n",
       "9  id1374509          2     5677  17-03-2020 11:48"
      ]
     },
     "execution_count": 215,
     "metadata": {},
     "output_type": "execute_result"
    }
   ],
   "source": [
    "df"
   ]
  },
  {
   "cell_type": "code",
   "execution_count": 216,
   "metadata": {},
   "outputs": [
    {
     "data": {
      "text/html": [
       "<div>\n",
       "<style scoped>\n",
       "    .dataframe tbody tr th:only-of-type {\n",
       "        vertical-align: middle;\n",
       "    }\n",
       "\n",
       "    .dataframe tbody tr th {\n",
       "        vertical-align: top;\n",
       "    }\n",
       "\n",
       "    .dataframe thead th {\n",
       "        text-align: right;\n",
       "    }\n",
       "</style>\n",
       "<table border=\"1\" class=\"dataframe\">\n",
       "  <thead>\n",
       "    <tr style=\"text-align: right;\">\n",
       "      <th></th>\n",
       "      <th>SUBS_ID</th>\n",
       "      <th>PROD_ID</th>\n",
       "      <th>START_DTTM</th>\n",
       "      <th>END_DTTM</th>\n",
       "    </tr>\n",
       "  </thead>\n",
       "  <tbody>\n",
       "    <tr>\n",
       "      <th>1</th>\n",
       "      <td>id4651830</td>\n",
       "      <td>1954</td>\n",
       "      <td>20-03-2020 14:59</td>\n",
       "      <td>01-12-2020 00:00</td>\n",
       "    </tr>\n",
       "    <tr>\n",
       "      <th>5</th>\n",
       "      <td>id7646509</td>\n",
       "      <td>6431</td>\n",
       "      <td>19-03-2020 13:00</td>\n",
       "      <td>19-03-2020 13:03</td>\n",
       "    </tr>\n",
       "    <tr>\n",
       "      <th>2</th>\n",
       "      <td>id7461794</td>\n",
       "      <td>3310</td>\n",
       "      <td>20-03-2020 17:25</td>\n",
       "      <td>01-12-2020 00:00</td>\n",
       "    </tr>\n",
       "    <tr>\n",
       "      <th>3</th>\n",
       "      <td>id5416547</td>\n",
       "      <td>1743</td>\n",
       "      <td>17-03-2020 10:17</td>\n",
       "      <td>25-03-2020 11:00</td>\n",
       "    </tr>\n",
       "    <tr>\n",
       "      <th>4</th>\n",
       "      <td>id8238421</td>\n",
       "      <td>1859</td>\n",
       "      <td>01-03-2020 11:42</td>\n",
       "      <td>01-03-2020 11:43</td>\n",
       "    </tr>\n",
       "    <tr>\n",
       "      <th>3</th>\n",
       "      <td>id8641743</td>\n",
       "      <td>2752</td>\n",
       "      <td>20-03-2020 15:44</td>\n",
       "      <td>21-04-2020 15:44</td>\n",
       "    </tr>\n",
       "    <tr>\n",
       "      <th>2</th>\n",
       "      <td>id2185490</td>\n",
       "      <td>3210</td>\n",
       "      <td>16-03-2020 16:28</td>\n",
       "      <td>01-12-2020 00:00</td>\n",
       "    </tr>\n",
       "    <tr>\n",
       "      <th>6</th>\n",
       "      <td>id7642700</td>\n",
       "      <td>3020</td>\n",
       "      <td>15-03-2020 14:21</td>\n",
       "      <td>15-03-2020 23:42</td>\n",
       "    </tr>\n",
       "    <tr>\n",
       "      <th>2</th>\n",
       "      <td>id8741631</td>\n",
       "      <td>5677</td>\n",
       "      <td>19-03-2020 12:28</td>\n",
       "      <td>01-12-2020 00:00</td>\n",
       "    </tr>\n",
       "  </tbody>\n",
       "</table>\n",
       "</div>"
      ],
      "text/plain": [
       "     SUBS_ID  PROD_ID        START_DTTM          END_DTTM\n",
       "1  id4651830     1954  20-03-2020 14:59  01-12-2020 00:00\n",
       "5  id7646509     6431  19-03-2020 13:00  19-03-2020 13:03\n",
       "2  id7461794     3310  20-03-2020 17:25  01-12-2020 00:00\n",
       "3  id5416547     1743  17-03-2020 10:17  25-03-2020 11:00\n",
       "4  id8238421     1859  01-03-2020 11:42  01-03-2020 11:43\n",
       "3  id8641743     2752  20-03-2020 15:44  21-04-2020 15:44\n",
       "2  id2185490     3210  16-03-2020 16:28  01-12-2020 00:00\n",
       "6  id7642700     3020  15-03-2020 14:21  15-03-2020 23:42\n",
       "2  id8741631     5677  19-03-2020 12:28  01-12-2020 00:00"
      ]
     },
     "execution_count": 216,
     "metadata": {},
     "output_type": "execute_result"
    }
   ],
   "source": [
    "prod_activations_logs = pd.read_csv(way+'prod_activations_logs.csv',sep = ';')\n",
    "prod_activations_logs"
   ]
  },
  {
   "cell_type": "code",
   "execution_count": 217,
   "metadata": {},
   "outputs": [
    {
     "data": {
      "text/html": [
       "<div>\n",
       "<style scoped>\n",
       "    .dataframe tbody tr th:only-of-type {\n",
       "        vertical-align: middle;\n",
       "    }\n",
       "\n",
       "    .dataframe tbody tr th {\n",
       "        vertical-align: top;\n",
       "    }\n",
       "\n",
       "    .dataframe thead th {\n",
       "        text-align: right;\n",
       "    }\n",
       "</style>\n",
       "<table border=\"1\" class=\"dataframe\">\n",
       "  <thead>\n",
       "    <tr style=\"text-align: right;\">\n",
       "      <th></th>\n",
       "      <th>SUBS_ID</th>\n",
       "      <th>FILIAL_ID</th>\n",
       "      <th>PROD_ID</th>\n",
       "      <th>ACT_DTTM</th>\n",
       "      <th>START_DTTM</th>\n",
       "      <th>END_DTTM</th>\n",
       "    </tr>\n",
       "  </thead>\n",
       "  <tbody>\n",
       "    <tr>\n",
       "      <th>0</th>\n",
       "      <td>id4651830</td>\n",
       "      <td>1</td>\n",
       "      <td>1954</td>\n",
       "      <td>20-03-2020 14:59</td>\n",
       "      <td>20-03-2020 14:59</td>\n",
       "      <td>01-12-2020 00:00</td>\n",
       "    </tr>\n",
       "    <tr>\n",
       "      <th>1</th>\n",
       "      <td>id7646509</td>\n",
       "      <td>5</td>\n",
       "      <td>6431</td>\n",
       "      <td>19-03-2020 13:00</td>\n",
       "      <td>19-03-2020 13:00</td>\n",
       "      <td>19-03-2020 13:03</td>\n",
       "    </tr>\n",
       "    <tr>\n",
       "      <th>2</th>\n",
       "      <td>id5416547</td>\n",
       "      <td>3</td>\n",
       "      <td>1743</td>\n",
       "      <td>17-03-2020 10:17</td>\n",
       "      <td>17-03-2020 10:17</td>\n",
       "      <td>25-03-2020 11:00</td>\n",
       "    </tr>\n",
       "    <tr>\n",
       "      <th>3</th>\n",
       "      <td>id2185490</td>\n",
       "      <td>2</td>\n",
       "      <td>3210</td>\n",
       "      <td>16-03-2020 16:28</td>\n",
       "      <td>16-03-2020 16:28</td>\n",
       "      <td>01-12-2020 00:00</td>\n",
       "    </tr>\n",
       "    <tr>\n",
       "      <th>4</th>\n",
       "      <td>id7642700</td>\n",
       "      <td>6</td>\n",
       "      <td>3020</td>\n",
       "      <td>15-03-2020 14:21</td>\n",
       "      <td>15-03-2020 14:21</td>\n",
       "      <td>15-03-2020 23:42</td>\n",
       "    </tr>\n",
       "  </tbody>\n",
       "</table>\n",
       "</div>"
      ],
      "text/plain": [
       "     SUBS_ID  FILIAL_ID  PROD_ID          ACT_DTTM        START_DTTM  \\\n",
       "0  id4651830          1     1954  20-03-2020 14:59  20-03-2020 14:59   \n",
       "1  id7646509          5     6431  19-03-2020 13:00  19-03-2020 13:00   \n",
       "2  id5416547          3     1743  17-03-2020 10:17  17-03-2020 10:17   \n",
       "3  id2185490          2     3210  16-03-2020 16:28  16-03-2020 16:28   \n",
       "4  id7642700          6     3020  15-03-2020 14:21  15-03-2020 14:21   \n",
       "\n",
       "           END_DTTM  \n",
       "0  01-12-2020 00:00  \n",
       "1  19-03-2020 13:03  \n",
       "2  25-03-2020 11:00  \n",
       "3  01-12-2020 00:00  \n",
       "4  15-03-2020 23:42  "
      ]
     },
     "execution_count": 217,
     "metadata": {},
     "output_type": "execute_result"
    }
   ],
   "source": [
    "df_new = df.merge(prod_activations_logs,on = ['SUBS_ID','PROD_ID'])\n",
    "df_new"
   ]
  },
  {
   "cell_type": "code",
   "execution_count": 200,
   "metadata": {},
   "outputs": [],
   "source": [
    "df_new['ACT_DTTM'] = pd.to_datetime(df_new['ACT_DTTM'])\n",
    "df_new['END_DTTM'] = pd.to_datetime(df_new['END_DTTM'])\n",
    "df_new['START_DTTM'] = pd.to_datetime(df_new['START_DTTM'])"
   ]
  },
  {
   "cell_type": "code",
   "execution_count": 218,
   "metadata": {},
   "outputs": [
    {
     "data": {
      "text/html": [
       "<div>\n",
       "<style scoped>\n",
       "    .dataframe tbody tr th:only-of-type {\n",
       "        vertical-align: middle;\n",
       "    }\n",
       "\n",
       "    .dataframe tbody tr th {\n",
       "        vertical-align: top;\n",
       "    }\n",
       "\n",
       "    .dataframe thead th {\n",
       "        text-align: right;\n",
       "    }\n",
       "</style>\n",
       "<table border=\"1\" class=\"dataframe\">\n",
       "  <thead>\n",
       "    <tr style=\"text-align: right;\">\n",
       "      <th></th>\n",
       "      <th>SUBS_ID</th>\n",
       "      <th>FILIAL_ID</th>\n",
       "      <th>PROD_ID</th>\n",
       "      <th>ACT_DTTM</th>\n",
       "      <th>START_DTTM</th>\n",
       "      <th>END_DTTM</th>\n",
       "    </tr>\n",
       "  </thead>\n",
       "  <tbody>\n",
       "    <tr>\n",
       "      <th>0</th>\n",
       "      <td>id4651830</td>\n",
       "      <td>1</td>\n",
       "      <td>1954</td>\n",
       "      <td>20-03-2020 14:59</td>\n",
       "      <td>20-03-2020 14:59</td>\n",
       "      <td>01-12-2020 00:00</td>\n",
       "    </tr>\n",
       "    <tr>\n",
       "      <th>1</th>\n",
       "      <td>id7646509</td>\n",
       "      <td>5</td>\n",
       "      <td>6431</td>\n",
       "      <td>19-03-2020 13:00</td>\n",
       "      <td>19-03-2020 13:00</td>\n",
       "      <td>19-03-2020 13:03</td>\n",
       "    </tr>\n",
       "    <tr>\n",
       "      <th>2</th>\n",
       "      <td>id5416547</td>\n",
       "      <td>3</td>\n",
       "      <td>1743</td>\n",
       "      <td>17-03-2020 10:17</td>\n",
       "      <td>17-03-2020 10:17</td>\n",
       "      <td>25-03-2020 11:00</td>\n",
       "    </tr>\n",
       "    <tr>\n",
       "      <th>3</th>\n",
       "      <td>id2185490</td>\n",
       "      <td>2</td>\n",
       "      <td>3210</td>\n",
       "      <td>16-03-2020 16:28</td>\n",
       "      <td>16-03-2020 16:28</td>\n",
       "      <td>01-12-2020 00:00</td>\n",
       "    </tr>\n",
       "    <tr>\n",
       "      <th>4</th>\n",
       "      <td>id7642700</td>\n",
       "      <td>6</td>\n",
       "      <td>3020</td>\n",
       "      <td>15-03-2020 14:21</td>\n",
       "      <td>15-03-2020 14:21</td>\n",
       "      <td>15-03-2020 23:42</td>\n",
       "    </tr>\n",
       "  </tbody>\n",
       "</table>\n",
       "</div>"
      ],
      "text/plain": [
       "     SUBS_ID  FILIAL_ID  PROD_ID          ACT_DTTM        START_DTTM  \\\n",
       "0  id4651830          1     1954  20-03-2020 14:59  20-03-2020 14:59   \n",
       "1  id7646509          5     6431  19-03-2020 13:00  19-03-2020 13:00   \n",
       "2  id5416547          3     1743  17-03-2020 10:17  17-03-2020 10:17   \n",
       "3  id2185490          2     3210  16-03-2020 16:28  16-03-2020 16:28   \n",
       "4  id7642700          6     3020  15-03-2020 14:21  15-03-2020 14:21   \n",
       "\n",
       "           END_DTTM  \n",
       "0  01-12-2020 00:00  \n",
       "1  19-03-2020 13:03  \n",
       "2  25-03-2020 11:00  \n",
       "3  01-12-2020 00:00  \n",
       "4  15-03-2020 23:42  "
      ]
     },
     "execution_count": 218,
     "metadata": {},
     "output_type": "execute_result"
    }
   ],
   "source": [
    "df_new"
   ]
  },
  {
   "cell_type": "code",
   "execution_count": 219,
   "metadata": {},
   "outputs": [],
   "source": [
    "df_new['START_DTTM'] = pd.to_datetime(df_new['START_DTTM'], format='%d-%m-%Y %H:%M')"
   ]
  },
  {
   "cell_type": "code",
   "execution_count": 220,
   "metadata": {},
   "outputs": [],
   "source": [
    "df_new['END_DTTM'] = pd.to_datetime(df_new['END_DTTM'], format='%d-%m-%Y %H:%M')"
   ]
  },
  {
   "cell_type": "code",
   "execution_count": 221,
   "metadata": {},
   "outputs": [],
   "source": [
    "df_new['ACT_DTTM'] = pd.to_datetime(df_new['ACT_DTTM'], format='%d-%m-%Y %H:%M')"
   ]
  },
  {
   "cell_type": "code",
   "execution_count": 222,
   "metadata": {},
   "outputs": [
    {
     "data": {
      "text/plain": [
       "SUBS_ID               object\n",
       "FILIAL_ID              int64\n",
       "PROD_ID                int64\n",
       "ACT_DTTM      datetime64[ns]\n",
       "START_DTTM    datetime64[ns]\n",
       "END_DTTM      datetime64[ns]\n",
       "dtype: object"
      ]
     },
     "execution_count": 222,
     "metadata": {},
     "output_type": "execute_result"
    }
   ],
   "source": [
    "df_new.dtypes"
   ]
  },
  {
   "cell_type": "code",
   "execution_count": 223,
   "metadata": {},
   "outputs": [],
   "source": [
    "df_new['difference'] = df_new['END_DTTM']-df_new['START_DTTM']"
   ]
  },
  {
   "cell_type": "code",
   "execution_count": 224,
   "metadata": {},
   "outputs": [
    {
     "data": {
      "text/html": [
       "<div>\n",
       "<style scoped>\n",
       "    .dataframe tbody tr th:only-of-type {\n",
       "        vertical-align: middle;\n",
       "    }\n",
       "\n",
       "    .dataframe tbody tr th {\n",
       "        vertical-align: top;\n",
       "    }\n",
       "\n",
       "    .dataframe thead th {\n",
       "        text-align: right;\n",
       "    }\n",
       "</style>\n",
       "<table border=\"1\" class=\"dataframe\">\n",
       "  <thead>\n",
       "    <tr style=\"text-align: right;\">\n",
       "      <th></th>\n",
       "      <th>SUBS_ID</th>\n",
       "      <th>FILIAL_ID</th>\n",
       "      <th>PROD_ID</th>\n",
       "      <th>ACT_DTTM</th>\n",
       "      <th>START_DTTM</th>\n",
       "      <th>END_DTTM</th>\n",
       "      <th>difference</th>\n",
       "    </tr>\n",
       "  </thead>\n",
       "  <tbody>\n",
       "    <tr>\n",
       "      <th>0</th>\n",
       "      <td>id4651830</td>\n",
       "      <td>1</td>\n",
       "      <td>1954</td>\n",
       "      <td>2020-03-20 14:59:00</td>\n",
       "      <td>2020-03-20 14:59:00</td>\n",
       "      <td>2020-12-01 00:00:00</td>\n",
       "      <td>255 days 09:01:00</td>\n",
       "    </tr>\n",
       "    <tr>\n",
       "      <th>1</th>\n",
       "      <td>id7646509</td>\n",
       "      <td>5</td>\n",
       "      <td>6431</td>\n",
       "      <td>2020-03-19 13:00:00</td>\n",
       "      <td>2020-03-19 13:00:00</td>\n",
       "      <td>2020-03-19 13:03:00</td>\n",
       "      <td>0 days 00:03:00</td>\n",
       "    </tr>\n",
       "    <tr>\n",
       "      <th>2</th>\n",
       "      <td>id5416547</td>\n",
       "      <td>3</td>\n",
       "      <td>1743</td>\n",
       "      <td>2020-03-17 10:17:00</td>\n",
       "      <td>2020-03-17 10:17:00</td>\n",
       "      <td>2020-03-25 11:00:00</td>\n",
       "      <td>8 days 00:43:00</td>\n",
       "    </tr>\n",
       "    <tr>\n",
       "      <th>3</th>\n",
       "      <td>id2185490</td>\n",
       "      <td>2</td>\n",
       "      <td>3210</td>\n",
       "      <td>2020-03-16 16:28:00</td>\n",
       "      <td>2020-03-16 16:28:00</td>\n",
       "      <td>2020-12-01 00:00:00</td>\n",
       "      <td>259 days 07:32:00</td>\n",
       "    </tr>\n",
       "    <tr>\n",
       "      <th>4</th>\n",
       "      <td>id7642700</td>\n",
       "      <td>6</td>\n",
       "      <td>3020</td>\n",
       "      <td>2020-03-15 14:21:00</td>\n",
       "      <td>2020-03-15 14:21:00</td>\n",
       "      <td>2020-03-15 23:42:00</td>\n",
       "      <td>0 days 09:21:00</td>\n",
       "    </tr>\n",
       "  </tbody>\n",
       "</table>\n",
       "</div>"
      ],
      "text/plain": [
       "     SUBS_ID  FILIAL_ID  PROD_ID            ACT_DTTM          START_DTTM  \\\n",
       "0  id4651830          1     1954 2020-03-20 14:59:00 2020-03-20 14:59:00   \n",
       "1  id7646509          5     6431 2020-03-19 13:00:00 2020-03-19 13:00:00   \n",
       "2  id5416547          3     1743 2020-03-17 10:17:00 2020-03-17 10:17:00   \n",
       "3  id2185490          2     3210 2020-03-16 16:28:00 2020-03-16 16:28:00   \n",
       "4  id7642700          6     3020 2020-03-15 14:21:00 2020-03-15 14:21:00   \n",
       "\n",
       "             END_DTTM        difference  \n",
       "0 2020-12-01 00:00:00 255 days 09:01:00  \n",
       "1 2020-03-19 13:03:00   0 days 00:03:00  \n",
       "2 2020-03-25 11:00:00   8 days 00:43:00  \n",
       "3 2020-12-01 00:00:00 259 days 07:32:00  \n",
       "4 2020-03-15 23:42:00   0 days 09:21:00  "
      ]
     },
     "execution_count": 224,
     "metadata": {},
     "output_type": "execute_result"
    }
   ],
   "source": [
    "df_new"
   ]
  },
  {
   "cell_type": "code",
   "execution_count": 225,
   "metadata": {},
   "outputs": [
    {
     "data": {
      "text/plain": [
       "0     True\n",
       "1    False\n",
       "2     True\n",
       "3     True\n",
       "4     True\n",
       "Name: difference, dtype: bool"
      ]
     },
     "execution_count": 225,
     "metadata": {},
     "output_type": "execute_result"
    }
   ],
   "source": [
    "df_new.difference > '5m'"
   ]
  },
  {
   "cell_type": "code",
   "execution_count": null,
   "metadata": {},
   "outputs": [],
   "source": []
  }
 ],
 "metadata": {
  "kernelspec": {
   "display_name": "Python 3",
   "language": "python",
   "name": "python3"
  },
  "language_info": {
   "codemirror_mode": {
    "name": "ipython",
    "version": 3
   },
   "file_extension": ".py",
   "mimetype": "text/x-python",
   "name": "python",
   "nbconvert_exporter": "python",
   "pygments_lexer": "ipython3",
   "version": "3.7.3"
  }
 },
 "nbformat": 4,
 "nbformat_minor": 4
}
